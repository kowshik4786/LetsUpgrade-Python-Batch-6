{
 "cells": [
  {
   "cell_type": "code",
   "execution_count": 3,
   "metadata": {},
   "outputs": [
    {
     "name": "stdout",
     "output_type": "stream",
     "text": [
      "1 -> 1\n",
      "2 -> 3\n",
      "3 -> 6\n",
      "4 -> 10\n",
      "5 -> 15\n",
      "6 -> 21\n",
      "7 -> 28\n",
      "8 -> 36\n",
      "9 -> 45\n",
      "sum of numbers is 45\n"
     ]
    }
   ],
   "source": [
    "sum=0\n",
    "i=1\n",
    "while(i<10):\n",
    "    sum= sum+i\n",
    "    print(i,\"->\",sum)\n",
    "    i=i+1\n",
    "print(\"sum of numbers is\",sum)"
   ]
  }
 ],
 "metadata": {
  "kernelspec": {
   "display_name": "Python 3",
   "language": "python",
   "name": "python3"
  },
  "language_info": {
   "codemirror_mode": {
    "name": "ipython",
    "version": 3
   },
   "file_extension": ".py",
   "mimetype": "text/x-python",
   "name": "python",
   "nbconvert_exporter": "python",
   "pygments_lexer": "ipython3",
   "version": "3.7.6"
  }
 },
 "nbformat": 4,
 "nbformat_minor": 4
}
