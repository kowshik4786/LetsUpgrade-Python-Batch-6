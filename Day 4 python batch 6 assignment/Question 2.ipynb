{
 "cells": [
  {
   "cell_type": "code",
   "execution_count": 1,
   "metadata": {},
   "outputs": [
    {
     "name": "stdout",
     "output_type": "stream",
     "text": [
      "GOOGLE is upper --> True\n",
      "GOOGLE.COM  is upper --> True\n",
      "GOOGLE.com is upper --> False\n",
      "google.com is upper --> False\n",
      "google is lower --> True\n",
      "google.com is lower --> True\n",
      "google.COM is lower --> False\n",
      "GOOGLE.COM is lower --> False\n",
      "string1234 is lower --> True\n",
      "string1234 is upper --> False\n"
     ]
    }
   ],
   "source": [
    "# str1 with all uppercase characters\n",
    "str1 = \"GOOGLE\"\n",
    "print(str1, \"is upper -->\", str1.isupper())\n",
    "\n",
    "# str2 with uppercase character, DOT, SPACE\n",
    "str2 = \"GOOGLE.COM \"\n",
    "print(str2, \"is upper -->\", str2.isupper())\n",
    "\n",
    "# str3 with uppercase and lowercase characters\n",
    "str3 =\"GOOGLE.com\"\n",
    "print(str3, \"is upper -->\", str3.isupper())\n",
    "\n",
    "# str4 with all lowercase characters\n",
    "str4 = \"google.com\"\n",
    "print(str4, \"is upper -->\", str4.isupper())\n",
    "\n",
    "# str5 with all lowercase characters\n",
    "str5 = \"google\"\n",
    "print(str5, \"is lower -->\", str5.islower())\n",
    "\n",
    "# str6 with lowercase character, DOT, SPACE\n",
    "str6 = \"google.com\"\n",
    "print(str6, \"is lower -->\", str6.islower())\n",
    "\n",
    "# str7 with lowercase and uppercase characters\n",
    "str7 =\"google.COM\"\n",
    "print(str7, \"is lower -->\", str7.islower())\n",
    "\n",
    "# str8 with all uppercase characters\n",
    "str8 = \"GOOGLE.COM\"\n",
    "print(str8, \"is lower -->\", str8.islower())\n",
    "\n",
    "# str9 with lowercase and numbers\n",
    "str9 = \"string1234\"\n",
    "print(str9, \"is lower -->\", str9.islower())\n",
    "print(str9, \"is upper -->\", str9.isupper())"
   ]
  }
 ],
 "metadata": {
  "kernelspec": {
   "display_name": "Python 3",
   "language": "python",
   "name": "python3"
  },
  "language_info": {
   "codemirror_mode": {
    "name": "ipython",
    "version": 3
   },
   "file_extension": ".py",
   "mimetype": "text/x-python",
   "name": "python",
   "nbconvert_exporter": "python",
   "pygments_lexer": "ipython3",
   "version": "3.7.6"
  }
 },
 "nbformat": 4,
 "nbformat_minor": 4
}
