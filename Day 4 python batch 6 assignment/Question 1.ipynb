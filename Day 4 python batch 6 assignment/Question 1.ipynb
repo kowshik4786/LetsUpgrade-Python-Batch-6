{
 "cells": [
  {
   "cell_type": "code",
   "execution_count": 9,
   "metadata": {},
   "outputs": [
    {
     "name": "stdout",
     "output_type": "stream",
     "text": [
      "      index\n",
      "we --> 5\n",
      "we --> 14\n",
      "we --> 25\n"
     ]
    }
   ],
   "source": [
    "import re\n",
    "\n",
    "str = \"what we think we become; we are python programmer\"\n",
    "print(\"      index\")\n",
    "for m in re.finditer('we', str):\n",
    "         print('we -->', m.start())"
   ]
  }
 ],
 "metadata": {
  "kernelspec": {
   "display_name": "Python 3",
   "language": "python",
   "name": "python3"
  },
  "language_info": {
   "codemirror_mode": {
    "name": "ipython",
    "version": 3
   },
   "file_extension": ".py",
   "mimetype": "text/x-python",
   "name": "python",
   "nbconvert_exporter": "python",
   "pygments_lexer": "ipython3",
   "version": "3.7.6"
  }
 },
 "nbformat": 4,
 "nbformat_minor": 4
}
